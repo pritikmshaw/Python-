{
 "cells": [
  {
   "cell_type": "code",
   "execution_count": 1,
   "metadata": {},
   "outputs": [
    {
     "name": "stdout",
     "output_type": "stream",
     "text": [
      "hello\n"
     ]
    }
   ],
   "source": [
    "print(\"hello\")"
   ]
  },
  {
   "cell_type": "code",
   "execution_count": 1,
   "metadata": {},
   "outputs": [
    {
     "name": "stdout",
     "output_type": "stream",
     "text": [
      "hello\n"
     ]
    }
   ],
   "source": [
    "print(\"hello\")"
   ]
  },
  {
   "cell_type": "code",
   "execution_count": 1,
   "metadata": {},
   "outputs": [],
   "source": [
    "#declearing variables \n",
    "a=10\n",
    "b=50264.5"
   ]
  },
  {
   "cell_type": "code",
   "execution_count": 4,
   "metadata": {},
   "outputs": [
    {
     "name": "stdout",
     "output_type": "stream",
     "text": [
      "x = 10\n",
      "y= 10\n",
      "z= 10\n"
     ]
    }
   ],
   "source": [
    "#Assigning single value to multiple variables\n",
    "x=y=z=10\n",
    "print(\"x =\",x)\n",
    "print(\"y=\",y)\n",
    "print(\"z=\",z)"
   ]
  },
  {
   "cell_type": "code",
   "execution_count": 5,
   "metadata": {},
   "outputs": [
    {
     "name": "stdout",
     "output_type": "stream",
     "text": [
      "10\n",
      "20\n",
      "30\n"
     ]
    }
   ],
   "source": [
    "#Assigning multiple values to multiple variables:\n",
    "a,b,c=10,20,30\n",
    "print(a)\n",
    "print(b)\n",
    "print(c)"
   ]
  },
  {
   "cell_type": "code",
   "execution_count": 9,
   "metadata": {},
   "outputs": [
    {
     "name": "stdout",
     "output_type": "stream",
     "text": [
      "<class 'int'>\n",
      "<class 'str'>\n",
      "<class 'float'>\n"
     ]
    }
   ],
   "source": [
    "#Python Data Types\n",
    "a=10\n",
    "b=\"hello\"\n",
    "c=123.10\n",
    "print(type(a))\n",
    "print(type(b))\n",
    "print(type(c))"
   ]
  },
  {
   "cell_type": "code",
   "execution_count": 10,
   "metadata": {},
   "outputs": [],
   "source": [
    "#Standard data types\n",
    "# 1.Numbers\n",
    "# 2.String\n",
    "# 3.List\n",
    "# 4.Tuple\n",
    "# 5.Dictionary"
   ]
  },
  {
   "cell_type": "code",
   "execution_count": 11,
   "metadata": {},
   "outputs": [],
   "source": [
    "#Numbers\n",
    "a= 3 \n",
    "b = 5"
   ]
  },
  {
   "cell_type": "code",
   "execution_count": 27,
   "metadata": {},
   "outputs": [
    {
     "name": "stdout",
     "output_type": "stream",
     "text": [
      "Heyy\n",
      "eyy\n",
      "14\n",
      "P\n",
      "Heyy Priti !!!Heyy Priti !!!\n",
      "Heyy Priti !!!FUCK WHAT PEOPLE THINK JUST ENJOY YOUR LIFE.\n",
      "Heyy Priti !!! FUCK WHAT PEOPLE THINK JUST ENJOY YOUR LIFE.\n"
     ]
    }
   ],
   "source": [
    "# String \n",
    "s1=\"Heyy Priti !!!\"\n",
    "s2='FUCK WHAT PEOPLE THINK JUST ENJOY YOUR LIFE.'\n",
    "\n",
    "#SLICING\n",
    "print(s1[0:4])\n",
    "print(s1[1:4])\n",
    "\n",
    "#to know the length of a string\n",
    "print(len(s1))\n",
    "\n",
    "#FOR PRINTING A PARTICULAR CHARACTER\n",
    "print(s1[5])\n",
    "\n",
    "#printing the string twice\n",
    "print(s1*2)\n",
    "\n",
    "#printing the concatenation of str1 and str2\n",
    "print(s1+s2)\n",
    "print(s1 +\" \"+ s2)\n"
   ]
  },
  {
   "cell_type": "code",
   "execution_count": 50,
   "metadata": {},
   "outputs": [
    {
     "name": "stdout",
     "output_type": "stream",
     "text": [
      "[2]\n",
      "[1, 'hi']\n",
      "[1, 'hi', 'python', 2]\n",
      "[1, 'hi', 'python', 2, 1, 'hi', 'python', 2]\n",
      "[1, 'hi', 'python', 2, 1, 'hi', 'python', 2, 1, 'hi', 'python', 2]\n",
      "[1, 'hi', 'lol', 2]\n",
      "['Strawberry', 'and', 'cigarettes', 'always', 'taste', 'like you']\n"
     ]
    }
   ],
   "source": [
    "#LIST \n",
    "l = [1, \"hi\", \"python\", 2]\n",
    "print (l[3:]) #PRINTS A PARTICULAR ELEMENT\n",
    "print (l[0:2]) #kind of slicing\n",
    "print (l) #printing the entire list\n",
    "print (l + l) #concatination\n",
    "print (l * 3) # multiplicating the list\n",
    "\n",
    "# tring to add extra element in list \n",
    "#YOU CAN MODIFY LIST BUT CANT ADD EXTRA \n",
    "l[2]=\"lol\"\n",
    "print(l)\n",
    "\n",
    "#List concatination\n",
    "l2=['Strawberry','and','cigarettes']\n",
    "l3=['always','taste','like you']\n",
    "print(l2+l3)"
   ]
  },
  {
   "cell_type": "code",
   "execution_count": 42,
   "metadata": {},
   "outputs": [
    {
     "name": "stdout",
     "output_type": "stream",
     "text": [
      "('hi', 'python', 2)\n",
      "('hi', 'python')\n",
      "('hi',)\n",
      "(2, 'python', 'hi')\n",
      "('hi', 'python', 2, 'hi', 'python', 2)\n",
      "('hi', 'python', 2, 'hi', 'python', 2, 'hi', 'python', 2)\n",
      "<class 'tuple'>\n"
     ]
    }
   ],
   "source": [
    "#TUPLE\n",
    "t = (\"hi\", \"python\", 2)\n",
    "print(t)\n",
    "print(t[0:2])\n",
    "print(t[0:1])\n",
    "print(t[::-1]) #reverse order \n",
    "print (t + t)\n",
    "print (t * 3)\n",
    "print (type(t))\n"
   ]
  },
  {
   "cell_type": "code",
   "execution_count": 44,
   "metadata": {},
   "outputs": [
    {
     "name": "stdout",
     "output_type": "stream",
     "text": [
      "1st name is Jimmy\n",
      "2nd name is mike\n",
      "{1: 'Jimmy', 2: 'Alex', 3: 'john', 4: 'mike'}\n",
      "dict_keys([1, 2, 3, 4])\n",
      "dict_values(['Jimmy', 'Alex', 'john', 'mike'])\n"
     ]
    }
   ],
   "source": [
    "#Dictionary\n",
    "d = {1:'Jimmy', 2:'Alex', 3:'john', 4:'mike'};\n",
    "print(\"1st name is \"+d[1]);\n",
    "print(\"2nd name is \"+ d[4]);\n",
    "print (d);\n",
    "print (d.keys());\n",
    "print (d.values());"
   ]
  },
  {
   "cell_type": "code",
   "execution_count": 47,
   "metadata": {},
   "outputs": [
    {
     "name": "stdout",
     "output_type": "stream",
     "text": [
      "hello world\n",
      "STRAWBERRY\n",
      "AND\n",
      "CIGARETTES\n"
     ]
    }
   ],
   "source": [
    "#Multiline Strings\n",
    "#Adding black slash at the end of each line.\n",
    "a=\"hello \\\n",
    "world\"\n",
    "print(a)\n",
    "\n",
    "#Using triple quotation marks:\n",
    "b='''STRAWBERRY\n",
    "AND\n",
    "CIGARETTES'''\n",
    "print(b)"
   ]
  },
  {
   "cell_type": "code",
   "execution_count": 49,
   "metadata": {},
   "outputs": [
    {
     "name": "stdout",
     "output_type": "stream",
     "text": [
      "10\n",
      "None\n"
     ]
    }
   ],
   "source": [
    "#Special literals\n",
    "val1 = 10\n",
    "val2 = None\n",
    "print(val1)\n",
    "print(val2)"
   ]
  },
  {
   "cell_type": "code",
   "execution_count": 55,
   "metadata": {},
   "outputs": [
    {
     "name": "stdout",
     "output_type": "stream",
     "text": [
      "5\n",
      "3\n"
     ]
    }
   ],
   "source": [
    "# floor division is basically it gives you the question part till its divisible not the remenaider \n",
    "a=11\n",
    "b=2\n",
    "c=3\n",
    "print(a//b)\n",
    "print(a//c)"
   ]
  },
  {
   "cell_type": "code",
   "execution_count": null,
   "metadata": {},
   "outputs": [],
   "source": []
  }
 ],
 "metadata": {
  "interpreter": {
   "hash": "95535ca2a504167d957f67fa4db7078e6ce888f4345aaceb6243d4bc74703302"
  },
  "kernelspec": {
   "display_name": "Python 3.9.7 64-bit (windows store)",
   "name": "python3"
  },
  "language_info": {
   "codemirror_mode": {
    "name": "ipython",
    "version": 3
   },
   "file_extension": ".py",
   "mimetype": "text/x-python",
   "name": "python",
   "nbconvert_exporter": "python",
   "pygments_lexer": "ipython3",
   "version": "3.9.9"
  },
  "orig_nbformat": 4
 },
 "nbformat": 4,
 "nbformat_minor": 2
}
