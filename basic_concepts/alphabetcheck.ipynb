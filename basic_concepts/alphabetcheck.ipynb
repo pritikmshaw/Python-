{
 "metadata": {
  "language_info": {
   "codemirror_mode": {
    "name": "ipython",
    "version": 3
   },
   "file_extension": ".py",
   "mimetype": "text/x-python",
   "name": "python",
   "nbconvert_exporter": "python",
   "pygments_lexer": "ipython3",
   "version": "3.8.4-final"
  },
  "orig_nbformat": 2,
  "kernelspec": {
   "name": "python_defaultSpec_1599853303122",
   "display_name": "Python 3.8.4 64-bit"
  }
 },
 "nbformat": 4,
 "nbformat_minor": 2,
 "cells": [
  {
   "cell_type": "code",
   "execution_count": 5,
   "metadata": {
    "tags": []
   },
   "outputs": [
    {
     "output_type": "stream",
     "name": "stdout",
     "text": "not a alphabet\n"
    }
   ],
   "source": [
    "ch = input(\"enter the alphabet\")\n",
    "if((ch >= 'a' and ch <= 'z') or (ch >= 'A' and ch <= 'Z')):\n",
    "    {\n",
    "        print(\"alphabet\")\n",
    "    }\n",
    "else:\n",
    "    {\n",
    "        print(\"not a alphabet\")\n",
    "    }"
   ]
  }
 ]
}